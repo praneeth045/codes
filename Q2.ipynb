{
 "cells": [
  {
   "cell_type": "code",
   "execution_count": 70,
   "id": "ddb2548a-5621-49ec-979b-33931298d89d",
   "metadata": {},
   "outputs": [
    {
     "name": "stdout",
     "output_type": "stream",
     "text": [
      "Model vector X for predicting product costs:\n",
      "[ 1. 55. 18.]\n"
     ]
    }
   ],
   "source": [
    "import pandas as pd\n",
    "df = pd.read_excel('Lab Session1 Data.xlsx',sheet_name='Purchase data')\n",
    "df = df.dropna(axis=1)\n",
    "A = df.iloc[:,1:4].to_numpy()\n",
    "C = df.iloc[:,4].to_numpy()\n",
    "A_inv = np.linalg.pinv(A)\n",
    "model_vector_X = np.matmul(A_inv, C)\n",
    "print(\"Model vector X for predicting product costs:\")\n",
    "print(model_vector_X)"
   ]
  },
  {
   "cell_type": "code",
   "execution_count": null,
   "id": "254152b2-b395-49c4-a015-50665933960e",
   "metadata": {},
   "outputs": [],
   "source": []
  }
 ],
 "metadata": {
  "kernelspec": {
   "display_name": "anaconda-panel-2023.05-py310",
   "language": "python",
   "name": "conda-env-anaconda-panel-2023.05-py310-py"
  },
  "language_info": {
   "codemirror_mode": {
    "name": "ipython",
    "version": 3
   },
   "file_extension": ".py",
   "mimetype": "text/x-python",
   "name": "python",
   "nbconvert_exporter": "python",
   "pygments_lexer": "ipython3",
   "version": "3.11.4"
  }
 },
 "nbformat": 4,
 "nbformat_minor": 5
}
