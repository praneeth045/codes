{
 "cells": [
  {
   "cell_type": "code",
   "execution_count": 97,
   "id": "e018d4a8-c938-4fc2-be40-e92ecdd9ec47",
   "metadata": {},
   "outputs": [
    {
     "name": "stdout",
     "output_type": "stream",
     "text": [
      "Model vector X for predicting product costs:\n",
      "   Customer  Candies (#)  Mangoes (Kg)  Milk Packets (#)  Payment (Rs)  \\\n",
      "0         1           20             6                 2           386   \n",
      "1         2           16             3                 6           289   \n",
      "2         3           27             6                 2           393   \n",
      "3         4           19             1                 2           110   \n",
      "4         5           24             4                 2           280   \n",
      "5         6           22             1                 5           167   \n",
      "6         7           15             4                 2           271   \n",
      "7         8           18             4                 2           274   \n",
      "8         9           21             1                 4           148   \n",
      "9        10           16             2                 4           198   \n",
      "\n",
      "  rich/poor  \n",
      "0      Rich  \n",
      "1      Rich  \n",
      "2      Rich  \n",
      "3      Poor  \n",
      "4      Rich  \n",
      "5      Poor  \n",
      "6      Rich  \n",
      "7      Rich  \n",
      "8      Poor  \n",
      "9      Poor  \n"
     ]
    }
   ],
   "source": [
    "import pandas as pd\n",
    "import numpy as np\n",
    "df = pd.read_excel('Lab Session1 Data.xlsx',sheet_name='Purchase data')\n",
    "df = df.dropna(axis=1)\n",
    "A = df.iloc[:,1:4].to_numpy()\n",
    "C = df.iloc[:,4].to_numpy()\n",
    "A_inv = np.linalg.pinv(A)\n",
    "model_vector_X = np.matmul(A_inv, C)\n",
    "print(\"Model vector X for predicting product costs:\")\n",
    "df['rich/poor'] = np.where(df['Payment (Rs)'] > 200,'Rich','Poor')\n",
    "print(df)"
   ]
  }
 ],
 "metadata": {
  "kernelspec": {
   "display_name": "anaconda-panel-2023.05-py310",
   "language": "python",
   "name": "conda-env-anaconda-panel-2023.05-py310-py"
  },
  "language_info": {
   "codemirror_mode": {
    "name": "ipython",
    "version": 3
   },
   "file_extension": ".py",
   "mimetype": "text/x-python",
   "name": "python",
   "nbconvert_exporter": "python",
   "pygments_lexer": "ipython3",
   "version": "3.11.4"
  }
 },
 "nbformat": 4,
 "nbformat_minor": 5
}
